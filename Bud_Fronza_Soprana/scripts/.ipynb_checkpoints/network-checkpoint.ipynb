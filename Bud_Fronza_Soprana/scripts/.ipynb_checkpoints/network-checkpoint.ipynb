{
 "cells": [
  {
   "cell_type": "code",
   "execution_count": 27,
   "metadata": {},
   "outputs": [],
   "source": [
    "%matplotlib notebook\n",
    "import numpy as np\n",
    "from matplotlib import pyplot as plt \n",
    "import math"
   ]
  },
  {
   "cell_type": "code",
   "execution_count": 2,
   "metadata": {},
   "outputs": [],
   "source": [
    "k = 1000"
   ]
  },
  {
   "cell_type": "code",
   "execution_count": 41,
   "metadata": {
    "scrolled": false
   },
   "outputs": [
    {
     "data": {
      "application/vnd.jupyter.widget-view+json": {
       "model_id": "81af69162e37462cab0778fb76fcb42e",
       "version_major": 2,
       "version_minor": 0
      },
      "text/plain": [
       "interactive(children=(FloatSlider(value=15.0, description='snr', max=40.0), FloatSlider(value=1.5, description…"
      ]
     },
     "metadata": {},
     "output_type": "display_data"
    }
   ],
   "source": [
    "from ipywidgets import interact, widgets\n",
    "\n",
    "def f(snr, var, dist, t):\n",
    "    a = []\n",
    "\n",
    "    for x in t:\n",
    "        for w in range(0, 50):\n",
    "            #y = (snr + np.random.normal(0, var) )/(((x+0.00001)/dist)**2)\n",
    "            y = snr - 10*2.6*np.log10((x+0.00001)/dist) - np.random.normal(0, var)\n",
    "            a.append(( x, (1 - 0.5 * np.exp(-y/2))**(8*k) ))\n",
    "\n",
    "    return list(zip(*a))\n",
    "\n",
    "@widgets.interact_manual(\n",
    "    snr=widgets.FloatSlider(min=0, max=40, value=15),\n",
    "    var=widgets.FloatSlider(min=0, max=6, value=1.5),\n",
    "    dist=widgets.FloatSlider(min=0, max=2, value=0.215),\n",
    "    cut_off=widgets.FloatSlider(min=0, max=5, value=2.2),\n",
    "    max_x=widgets.IntSlider(min=0, max=500, value=250)\n",
    ")\n",
    "def plot(snr, var, dist, max_x, cut_off):\n",
    "    x, y = f(snr, var, dist, np.linspace(0, 1, 800))\n",
    "    fig, ax = plt.subplots()\n",
    "    ax.set_ylim([0,1])\n",
    "    ax.set_xlim([0, max_x])\n",
    "    ax.axvline(dist*max_x*cut_off)\n",
    "    plt.scatter(np.array(x)*max_x, y, s=1)\n",
    "    plt.grid()\n",
    "    plt.show()\n"
   ]
  },
  {
   "cell_type": "code",
   "execution_count": 46,
   "metadata": {},
   "outputs": [
    {
     "data": {
      "text/plain": [
       "557.3333333333333"
      ]
     },
     "execution_count": 46,
     "metadata": {},
     "output_type": "execute_result"
    }
   ],
   "source": [
    "((1000*8*20*19*(1/3 + 1/30))/1000) / 2"
   ]
  },
  {
   "cell_type": "code",
   "execution_count": 48,
   "metadata": {},
   "outputs": [
    {
     "data": {
      "text/plain": [
       "1198837.2"
      ]
     },
     "execution_count": 48,
     "metadata": {},
     "output_type": "execute_result"
    }
   ],
   "source": [
    "2997093*100/250"
   ]
  },
  {
   "cell_type": "code",
   "execution_count": null,
   "metadata": {},
   "outputs": [],
   "source": []
  }
 ],
 "metadata": {
  "kernelspec": {
   "display_name": "Python 3",
   "language": "python",
   "name": "python3"
  },
  "language_info": {
   "codemirror_mode": {
    "name": "ipython",
    "version": 3
   },
   "file_extension": ".py",
   "mimetype": "text/x-python",
   "name": "python",
   "nbconvert_exporter": "python",
   "pygments_lexer": "ipython3",
   "version": "3.8.6"
  }
 },
 "nbformat": 4,
 "nbformat_minor": 2
}
